{
 "cells": [
  {
   "cell_type": "code",
   "execution_count": 1,
   "metadata": {},
   "outputs": [
    {
     "name": "stdout",
     "output_type": "stream",
     "text": [
      "enter your id :2\n",
      "enter your name :akhand\n",
      "enter your age :21\n",
      "enter your gender :m\n",
      "enter your criminal record :no\n"
     ]
    }
   ],
   "source": [
    "import cv2\n",
    "import sqlite3 as db\n",
    "\n",
    "detector=cv2.CascadeClassifier('haarcascade_frontalface_default.xml')\n",
    "cam = cv2.VideoCapture(0)\n",
    "\n",
    "def insertOrUpdate(Id,name,age,gender,criminal):\n",
    "    conn=db.connect('facedb.db')\n",
    "    cmd=\"SELECT * FROM PEOPLE WHERE ID=\"+str(Id)\n",
    "    cursor=conn.execute(cmd)\n",
    "    isRecordExist=0\n",
    "    for row in cursor:\n",
    "        isRecordExist=1\n",
    "    if(isRecordExist==1):\n",
    "        cmd=\"UPDATE people SET NAME=\"+str(name)+\" WHERE ID=\"+str(Id)\n",
    "    else:\n",
    "\n",
    "         cmd=\"insert into people (id,name,age, gender, criminal) values('{}','{}','{}','{}','{}')\".format(Id,name,age,gender,criminal)\n",
    "        \n",
    "    conn.execute(cmd)\n",
    "    conn.commit()\n",
    "    conn.close()\n",
    "    \n",
    "\n",
    "\n",
    "Id=input('enter your id :')\n",
    "name=input('enter your name :')\n",
    "age=input('enter your age :')\n",
    "gender=input('enter your gender :')\n",
    "criminal=input('enter your criminal record :')\n",
    "\n",
    "insertOrUpdate(Id,name,age,gender,criminal)\n",
    "\n",
    "sampleNum=0\n",
    "while(True):\n",
    "    ret, img = cam.read()\n",
    "    gray = cv2.cvtColor(img, cv2.COLOR_BGR2GRAY)\n",
    "    faces = detector.detectMultiScale(gray)\n",
    "    for (x,y,w,h) in faces:\n",
    "        cv2.rectangle(img,(x,y),(x+w,y+h),(0,0,255),2)\n",
    "        \n",
    "        #incrementing sample number \n",
    "        sampleNum=sampleNum+1\n",
    "        #saving the captured face in the dataset folder\n",
    "        cv2.imwrite(\"dataset/User.\"+Id +'.'+ str(sampleNum) + \".jpg\", gray[y:y+h,x:x+w])\n",
    "\n",
    "        cv2.imshow('frame',img)\n",
    "    #wait for 100 miliseconds \n",
    "    if(cv2.waitKey(100)==ord('q')):\n",
    "        break\n",
    "    # break if the sample number is morethan 20\n",
    "    elif sampleNum>20:\n",
    "        break\n",
    "cam.release()\n",
    "cv2.destroyAllWindows()"
   ]
  },
  {
   "cell_type": "code",
   "execution_count": null,
   "metadata": {},
   "outputs": [],
   "source": []
  }
 ],
 "metadata": {
  "kernelspec": {
   "display_name": "Python 3",
   "language": "python",
   "name": "python3"
  },
  "language_info": {
   "codemirror_mode": {
    "name": "ipython",
    "version": 3
   },
   "file_extension": ".py",
   "mimetype": "text/x-python",
   "name": "python",
   "nbconvert_exporter": "python",
   "pygments_lexer": "ipython3",
   "version": "3.7.3"
  }
 },
 "nbformat": 4,
 "nbformat_minor": 2
}
